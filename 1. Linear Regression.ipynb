{
 "cells": [
  {
   "cell_type": "code",
   "execution_count": 1,
   "id": "960bdf0f-28b6-47f6-87f0-1c10be08d0b3",
   "metadata": {},
   "outputs": [],
   "source": [
    "import numpy as np\n",
    "import matplotlib.pyplot as plt"
   ]
  },
  {
   "cell_type": "markdown",
   "id": "0f073fbc-28e3-44c0-87f3-857cdd77cda9",
   "metadata": {},
   "source": [
    "## Linear Regression class"
   ]
  },
  {
   "cell_type": "code",
   "execution_count": 2,
   "id": "df89f922-368c-4ba6-b7bd-50b61db13eda",
   "metadata": {},
   "outputs": [],
   "source": [
    "# X = [n x m]\n",
    "# w = [m x 1]\n",
    "# y = [n x 1]"
   ]
  },
  {
   "cell_type": "code",
   "execution_count": 3,
   "id": "f512572d-be97-48e9-a231-f782c9ac5ef4",
   "metadata": {},
   "outputs": [],
   "source": [
    "class LinearRegression:\n",
    "    def __init__(self, \n",
    "                 iter_num = 20, \n",
    "                 step = 0.1):\n",
    "        self.iter_num = iter_num\n",
    "        self.step = step\n",
    "        \n",
    "\n",
    "    def fit(self, X, y):\n",
    "\n",
    "        # add constant column to take intercept into account\n",
    "        X = self.__update_X(X)\n",
    "\n",
    "        # y = [n x 1]\n",
    "        y = y.reshape(-1, 1)\n",
    "        \n",
    "        self.n = X.shape[0] # number of rows\n",
    "        self.m = X.shape[1] # number of features (including intercept)\n",
    "\n",
    "        # set initial values of weights\n",
    "        # w = [m x 1]\n",
    "        self.w = np.random.rand(self.m, 1)\n",
    "\n",
    "        # gradient descent\n",
    "        for _ in range(self.iter_num):\n",
    "            self.w = self.w - self.step * self.__gradient(X, y)\n",
    "\n",
    "    \n",
    "    def predict(self, X):\n",
    "        # add constant column to take intercept into account\n",
    "        X = self.__update_X(X)\n",
    "        return np.dot(X, self.w)\n",
    "\n",
    "    \n",
    "    def score(self, y_pred, y_true):\n",
    "        y_pred = y_pred.reshape(-1, 1)\n",
    "        y_true = y_true.reshape(-1, 1)\n",
    "\n",
    "        # loss function\n",
    "        return (1/(2*self.n)) * np.sum((y_pred - y_true)**2)\n",
    "\n",
    "    \n",
    "    def __gradient(self, X, y):\n",
    "        # loss function derivative\n",
    "        d_w = (1/self.n) * np.dot((np.dot(X, self.w) - y).T, X)\n",
    "        return d_w.reshape((self.m, 1))\n",
    "\n",
    "\n",
    "    @staticmethod\n",
    "    def __update_X(X):\n",
    "        return np.hstack((np.ones((X.shape[0], 1)), X))\n",
    " "
   ]
  },
  {
   "cell_type": "markdown",
   "id": "4a5066ce-414e-49d2-ad02-f1328aaad0f4",
   "metadata": {},
   "source": [
    "## Test"
   ]
  },
  {
   "cell_type": "code",
   "execution_count": 4,
   "id": "6885e818-53c5-455a-98c4-c35e6c0b4c7e",
   "metadata": {},
   "outputs": [],
   "source": [
    "from sklearn.datasets import make_regression\n",
    "\n",
    "X, y = make_regression(n_samples = 20, \n",
    "                       n_features = 1,\n",
    "                       noise = 2,\n",
    "                       random_state = 42)"
   ]
  },
  {
   "cell_type": "code",
   "execution_count": 5,
   "id": "65b21a09-0cff-4a07-a57a-7aa95c46e6cb",
   "metadata": {},
   "outputs": [],
   "source": [
    "lr = LinearRegression()\n",
    "lr.fit(X, y)"
   ]
  },
  {
   "cell_type": "code",
   "execution_count": 6,
   "id": "7e48c3aa-ebe7-40cc-a0eb-b0f1e5e4445e",
   "metadata": {},
   "outputs": [
    {
     "data": {
      "text/plain": [
       "[<matplotlib.lines.Line2D at 0x1dc6055c310>]"
      ]
     },
     "execution_count": 6,
     "metadata": {},
     "output_type": "execute_result"
    },
    {
     "data": {
      "image/png": "[encoded data removed]",
      "text/plain": [
       "<Figure size 640x480 with 1 Axes>"
      ]
     },
     "metadata": {},
     "output_type": "display_data"
    }
   ],
   "source": [
    "plt.scatter(X, y)\n",
    "plt.plot(X, lr.w[0] + lr.w[1] * X, color = 'r', label = 'Regression line')"
   ]
  },
  {
   "cell_type": "code",
   "execution_count": 7,
   "id": "c1375059-0899-4096-ae9b-56ffdd3772b3",
   "metadata": {},
   "outputs": [
    {
     "data": {
      "text/plain": [
       "25.873408251793617"
      ]
     },
     "execution_count": 7,
     "metadata": {},
     "output_type": "execute_result"
    }
   ],
   "source": [
    "lr.score(lr.predict(X), y)"
   ]
  }
 ],
 "metadata": {
  "kernelspec": {
   "display_name": "Python 3 (ipykernel)",
   "language": "python",
   "name": "python3"
  },
  "language_info": {
   "codemirror_mode": {
    "name": "ipython",
    "version": 3
   },
   "file_extension": ".py",
   "mimetype": "text/x-python",
   "name": "python",
   "nbconvert_exporter": "python",
   "pygments_lexer": "ipython3",
   "version": "3.11.5"
  }
 },
 "nbformat": 4,
 "nbformat_minor": 5
}
